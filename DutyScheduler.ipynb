{
 "cells": [
  {
   "cell_type": "markdown",
   "id": "ea5f8674-0817-43e3-9af5-fbec4dd61400",
   "metadata": {},
   "source": [
    "# Duty Scheduler"
   ]
  },
  {
   "cell_type": "markdown",
   "id": "ecda566f-6550-4e22-8243-e9cb9d82eee8",
   "metadata": {},
   "source": [
    "## Input Data"
   ]
  },
  {
   "cell_type": "code",
   "execution_count": 1,
   "id": "183a9a8a-0c8f-45ad-9333-6bcb69805666",
   "metadata": {
    "editable": true,
    "slideshow": {
     "slide_type": ""
    },
    "tags": []
   },
   "outputs": [
    {
     "name": "stdout",
     "output_type": "stream",
     "text": [
      "Requirement already satisfied: icalendar in c:\\python311\\lib\\site-packages (5.0.10)\n",
      "Requirement already satisfied: python-dateutil in c:\\python311\\lib\\site-packages (from icalendar) (2.8.2)\n",
      "Requirement already satisfied: pytz in c:\\python311\\lib\\site-packages (from icalendar) (2023.3.post1)\n",
      "Requirement already satisfied: six>=1.5 in c:\\python311\\lib\\site-packages (from python-dateutil->icalendar) (1.16.0)\n"
     ]
    }
   ],
   "source": [
    "from datetime import date as d\n",
    "from datetime import datetime as dt\n",
    "import random\n",
    "import sys\n",
    "!{sys.executable} -m pip install icalendar\n",
    "from icalendar import Calendar, Event, vCalAddress, vText\n",
    "import uuid"
   ]
  },
  {
   "cell_type": "code",
   "execution_count": 2,
   "id": "09b90d7e-c775-4100-a798-2e0509180af3",
   "metadata": {
    "editable": true,
    "slideshow": {
     "slide_type": ""
    },
    "tags": []
   },
   "outputs": [],
   "source": [
    "random.seed(str(dt.now()))"
   ]
  },
  {
   "cell_type": "code",
   "execution_count": 3,
   "id": "1e023dcd-e7c7-4b8f-a6f3-0d1c74e976c0",
   "metadata": {
    "editable": true,
    "slideshow": {
     "slide_type": ""
    },
    "tags": []
   },
   "outputs": [],
   "source": [
    "sched_cal = Calendar()\n",
    "sched_cal['summary'] = \"Duty Schedule\"\n",
    "sched_cal.add('prodid', '-//My calendar product//mxm.dk//')\n",
    "\n",
    "sched_cal.add('version', '2.0')"
   ]
  },
  {
   "cell_type": "code",
   "execution_count": 4,
   "id": "5c0a5c8c-5fdb-48dd-83b5-66042e44d424",
   "metadata": {
    "editable": true,
    "slideshow": {
     "slide_type": ""
    },
    "tags": []
   },
   "outputs": [],
   "source": [
    "people = [\n",
    "    {\"name\": \"Ryan\",\n",
    "     \"email\": \"rgilm@udel.edu\",\n",
    "     \"p_wd\": 0,\n",
    "     \"s_wd\": 0,\n",
    "     \"p_we\": 0,\n",
    "     \"s_we\": 0,\n",
    "     \"unavail\": [\n",
    "        d.fromisoformat('2023-11-02'),\n",
    "        d.fromisoformat('2023-11-05'),\n",
    "        d.fromisoformat('2023-11-22'),\n",
    "        d.fromisoformat('2023-11-15'),\n",
    "        d.fromisoformat('2023-11-08'),\n",
    "    ]},\n",
    "    {\"name\": \"Annabel\",\n",
    "     \"email\": \"annabel@udel.edu\",\n",
    "     \"p_wd\": 0,\n",
    "     \"s_wd\": 0,\n",
    "     \"p_we\": 0,\n",
    "     \"s_we\": 0,\n",
    "     \"unavail\": [\n",
    "        d.fromisoformat('2023-11-05'),\n",
    "        d.fromisoformat('2023-11-10'),\n",
    "        d.fromisoformat('2023-11-19'),\n",
    "        d.fromisoformat('2023-11-11'),\n",
    "    ]},\n",
    "    {\"name\": \"Bridget\",\n",
    "     \"email\": \"bridget@udel.edu\",\n",
    "     \"p_wd\": 0,\n",
    "     \"s_wd\": 0,\n",
    "     \"p_we\": 0,\n",
    "     \"s_we\": 0,\n",
    "     \"unavail\": [\n",
    "        d.fromisoformat('2023-11-01'),\n",
    "        d.fromisoformat('2023-11-16'),\n",
    "        d.fromisoformat('2023-11-27'),\n",
    "        d.fromisoformat('2023-11-28'),\n",
    "    ]},\n",
    "    {\"name\": \"Paul\",\n",
    "     \"email\": \"paul@udel.edu\",\n",
    "     \"p_wd\": 0,\n",
    "     \"s_wd\": 0,\n",
    "     \"p_we\": 0,\n",
    "     \"s_we\": 0,\n",
    "     \"unavail\": [\n",
    "        d.fromisoformat('2023-11-27'),\n",
    "        d.fromisoformat('2023-11-28'),\n",
    "    ]},\n",
    "    {\"name\": \"Chloe\",\n",
    "     \"email\": \"chloe@udel.edu\",\n",
    "     \"p_wd\": 0,\n",
    "     \"s_wd\": 0,\n",
    "     \"p_we\": 0,\n",
    "     \"s_we\": 0,\n",
    "     \"unavail\": [\n",
    "        d.fromisoformat('2023-11-09'),\n",
    "        d.fromisoformat('2023-11-10'),\n",
    "        d.fromisoformat('2023-11-21'),\n",
    "        d.fromisoformat('2023-11-22'),\n",
    "        d.fromisoformat('2023-11-23'),\n",
    "        d.fromisoformat('2023-11-24'),\n",
    "        d.fromisoformat('2023-11-25'),\n",
    "    ]},\n",
    "]"
   ]
  },
  {
   "cell_type": "code",
   "execution_count": 5,
   "id": "6d37bfd6-2f7b-41de-940e-349076d3333e",
   "metadata": {
    "editable": true,
    "slideshow": {
     "slide_type": ""
    },
    "tags": []
   },
   "outputs": [],
   "source": [
    "month_to_schedule = d(2023, 11, 1)"
   ]
  },
  {
   "cell_type": "markdown",
   "id": "ccabf91b-17c7-4a51-8334-f92f0caed3ef",
   "metadata": {
    "editable": true,
    "slideshow": {
     "slide_type": ""
    },
    "tags": []
   },
   "source": [
    "### create schedule dates \n",
    "use the month of the year to create a list of objects that contain the date, empty primary and secondary fields, whether it is a weekday or not, and a list of people who can work those days."
   ]
  },
  {
   "cell_type": "code",
   "execution_count": 6,
   "id": "0a49a866-279a-4146-813e-e201a3f2e43a",
   "metadata": {
    "editable": true,
    "slideshow": {
     "slide_type": ""
    },
    "tags": []
   },
   "outputs": [],
   "source": [
    "schedule = []\n",
    "for date_of_month in range(1,31):\n",
    "    t_date = d(month_to_schedule.year, month_to_schedule.month, date_of_month)\n",
    "    avail_people=[]\n",
    "    for person in people:\n",
    "        if t_date not in person['unavail']:\n",
    "            avail_people.append(person)\n",
    "    schedule.append({\"date\": t_date, \"avail_people\": avail_people,\"prim\": None, \"sec\": None, \"is_weekday\": True if d.weekday(t_date) < 3 or d.weekday(t_date) > 5 else False})"
   ]
  },
  {
   "cell_type": "code",
   "execution_count": 7,
   "id": "89616bf7-146b-4352-a721-96ba6abd1f17",
   "metadata": {
    "editable": true,
    "slideshow": {
     "slide_type": ""
    },
    "tags": []
   },
   "outputs": [],
   "source": [
    "# function for sorting keys\n",
    "\n",
    "def get_duty_count_by_p_wd(person):\n",
    "    return person['p_wd']\n",
    "\n",
    "def get_duty_count_by_p_we(person):\n",
    "    return person['p_we']\n",
    "\n",
    "def get_duty_count_by_s_wd(person):\n",
    "    return person['s_wd']\n",
    "\n",
    "def get_duty_count_by_s_we(person):\n",
    "    return person['s_we']"
   ]
  },
  {
   "cell_type": "code",
   "execution_count": 8,
   "id": "7f658f23-2b74-4776-9b2c-0d36c15fc5ac",
   "metadata": {
    "editable": true,
    "slideshow": {
     "slide_type": ""
    },
    "tags": []
   },
   "outputs": [],
   "source": [
    "# sort people in day by selected shift and daytype\n",
    "\n",
    "def sort_people_in_day(date, prim):\n",
    "    random.shuffle(date['avail_people'])\n",
    "    if prim is True and date['is_weekday'] is True:\n",
    "        return date['avail_people'].sort(key=get_duty_count_by_p_wd)\n",
    "    elif prim is True and date['is_weekday'] is False:\n",
    "        return date['avail_people'].sort(key=get_duty_count_by_p_we)\n",
    "    elif prim is False and date['is_weekday'] is True:\n",
    "        return date['avail_people'].sort(key=get_duty_count_by_s_wd)\n",
    "    else: \n",
    "        return date['avail_people'].sort(key=get_duty_count_by_s_we)"
   ]
  },
  {
   "cell_type": "code",
   "execution_count": 9,
   "id": "f07c7131-bfb9-4a62-8052-fdba018ca7e2",
   "metadata": {
    "editable": true,
    "slideshow": {
     "slide_type": ""
    },
    "tags": []
   },
   "outputs": [
    {
     "name": "stdout",
     "output_type": "stream",
     "text": [
      "Ryan 0\n",
      "Annabel 0\n",
      "Bridget 0\n",
      "Paul 0\n",
      "Chloe 0\n",
      "Ryan 0\n",
      "Annabel 0\n",
      "Chloe 0\n",
      "Paul 0\n",
      "Bridget 0\n"
     ]
    }
   ],
   "source": [
    "#testing sort_people in day\n",
    "\n",
    "for person in schedule[2]['avail_people']:\n",
    "    print(person['name'], person['s_we'])\n",
    "sort_people_in_day(schedule[2], False)\n",
    "for person in schedule[2]['avail_people']:\n",
    "    print(person['name'] , person['s_we'])"
   ]
  },
  {
   "cell_type": "code",
   "execution_count": 10,
   "id": "1b01a361-4356-4dd5-b35d-35d88e187b80",
   "metadata": {
    "editable": true,
    "slideshow": {
     "slide_type": ""
    },
    "tags": []
   },
   "outputs": [],
   "source": [
    "def assign_shift(date, prim): \n",
    "    i_person = 0\n",
    "    if prim is True:\n",
    "        while date['sec'] == date['avail_people'][i_person]:\n",
    "            if i_person is len(date['avail_people']):\n",
    "                raise IndexError(\"Could not find person available that was not self\")\n",
    "            else:\n",
    "                i_person+=1\n",
    "        date['prim'] = date['avail_people'][i_person]\n",
    "        shift_event = Event()\n",
    "        shift_event['uid'] = uuid.uuid1()\n",
    "        shift_event['summary'] = date['prim']['name'] + \" - Primary\"\n",
    "        attendee = vCalAddress('MAILTO:'+date['prim']['email'])\n",
    "        attendee.params['cn'] = vText(date['prim']['name'])\n",
    "        attendee.params['ROLE'] = vText('REQ-PARTICIPANT')\n",
    "        shift_event.add('attendee', attendee, encode=0)\n",
    "        shift_event.add('dtstamp', dt.now())\n",
    "        shift_event.add('dtstart', dt(date['date'].year, date['date'].month, date['date'].day, 19, 0,0))\n",
    "        shift_event.add('dtend', dt(date['date'].year, date['date'].month, date['date'].day, 23, 59,59))\n",
    "        shift_event['dtstamp'].to_ical()\n",
    "        shift_event['dtstart'].to_ical()\n",
    "        shift_event['dtend'].to_ical()\n",
    "        sched_cal.add_component(shift_event)\n",
    "        if date['is_weekday'] is True:\n",
    "            date['avail_people'][i_person]['p_wd'] = date['avail_people'][i_person]['p_wd'] + 1\n",
    "        else: \n",
    "            date['avail_people'][i_person]['p_we'] = date['avail_people'][i_person]['p_we'] + 1\n",
    "        # eventually add to calendar\n",
    "    else: \n",
    "        while date['prim'] == date['avail_people'][i_person]:\n",
    "            if i_person is len(date['avail_people']):\n",
    "                raise IndexError(\"Could not find person available that was not self\")\n",
    "            else:\n",
    "                i_person+=1\n",
    "        date['sec'] = date['avail_people'][i_person]\n",
    "        shift_event = Event()\n",
    "        shift_event['uid'] = uuid.uuid1()\n",
    "        shift_event['summary'] = date['sec']['name'] + \" - Secondary\"\n",
    "        attendee = vCalAddress('MAILTO:'+date['sec']['email'])\n",
    "        attendee.params['cn'] = vText(date['sec']['name'])\n",
    "        attendee.params['ROLE'] = vText('REQ-PARTICIPANT')\n",
    "        shift_event.add('attendee', attendee, encode=0)\n",
    "        shift_event.add('dtstamp', dt.now())\n",
    "        shift_event.add('dtstart', dt(date['date'].year, date['date'].month, date['date'].day, 7, 0,0))\n",
    "        shift_event.add('dtend', dt(date['date'].year, date['date'].month, date['date'].day, 23, 59,59))\n",
    "        shift_event['dtstamp'].to_ical()\n",
    "        shift_event['dtstart'].to_ical()\n",
    "        shift_event['dtend'].to_ical()\n",
    "        sched_cal.add_component(shift_event)\n",
    "        if date['is_weekday'] is True:\n",
    "            date['avail_people'][i_person]['s_wd'] = date['avail_people'][i_person]['s_wd'] + 1\n",
    "        else: \n",
    "            date['avail_people'][i_person]['s_we'] = date['avail_people'][i_person]['s_we'] + 1\n",
    "        # eventually add to calendar"
   ]
  },
  {
   "cell_type": "code",
   "execution_count": 11,
   "id": "c8684b62-36d2-4956-a984-e7e25a2107c5",
   "metadata": {
    "editable": true,
    "slideshow": {
     "slide_type": ""
    },
    "tags": []
   },
   "outputs": [
    {
     "data": {
      "text/plain": [
       "({'name': 'Ryan',\n",
       "  'email': 'test@test.io',\n",
       "  'p_wd': 3,\n",
       "  's_wd': 2,\n",
       "  'p_we': 3,\n",
       "  's_we': 4,\n",
       "  'unavail': [datetime.date(2023, 11, 2),\n",
       "   datetime.date(2023, 11, 5),\n",
       "   datetime.date(2023, 11, 22),\n",
       "   datetime.date(2023, 11, 15),\n",
       "   datetime.date(2023, 11, 8)]},\n",
       " {'name': 'Annabel',\n",
       "  'email': 'test@test.io',\n",
       "  'p_wd': 4,\n",
       "  's_wd': 1,\n",
       "  'p_we': 0,\n",
       "  's_we': 0,\n",
       "  'unavail': [datetime.date(2023, 11, 5),\n",
       "   datetime.date(2023, 11, 10),\n",
       "   datetime.date(2023, 11, 19),\n",
       "   datetime.date(2023, 11, 11)]})"
      ]
     },
     "execution_count": 11,
     "metadata": {},
     "output_type": "execute_result"
    }
   ],
   "source": [
    "#testing assign_shift\n",
    "\n",
    "t_day = {'date': d(2023, 11, 1),\n",
    "  'avail_people': [{'name': 'Ryan',\n",
    "    'email':'test@test.io',\n",
    "    'p_wd': 2,\n",
    "    's_wd': 2,\n",
    "    'p_we': 3,\n",
    "    's_we': 4,\n",
    "    'unavail': [d(2023, 11, 2),\n",
    "     d(2023, 11, 5),\n",
    "     d(2023, 11, 22),\n",
    "     d(2023, 11, 15),\n",
    "     d(2023, 11, 8)]},\n",
    "   {'name': 'Annabel',\n",
    "    'email':'test@test.io',\n",
    "    'p_wd': 4,\n",
    "    's_wd': 0,\n",
    "    'p_we': 0,\n",
    "    's_we': 0,\n",
    "    'unavail': [d(2023, 11, 5),\n",
    "     d(2023, 11, 10),\n",
    "     d(2023, 11, 19),\n",
    "     d(2023, 11, 11)]},\n",
    "   {'name': 'Paul',\n",
    "    'email':'test@test.io',\n",
    "    'p_wd': 2,\n",
    "    's_wd': 0,\n",
    "    'p_we': 0,\n",
    "    's_we': 0,\n",
    "    'unavail': [d(2023, 11, 27), d(2023, 11, 28)]},\n",
    "   {'name': 'Chloe',\n",
    "    'email':'test@test.io',\n",
    "    'p_wd': 9,\n",
    "    's_wd': 0,\n",
    "    'p_we': 0,\n",
    "    's_we': 0,\n",
    "    'unavail': [d(2023, 11, 9),\n",
    "     d(2023, 11, 10),\n",
    "     d(2023, 11, 21),\n",
    "     d(2023, 11, 22),\n",
    "     d(2023, 11, 23),\n",
    "     d(2023, 11, 24),\n",
    "     d(2023, 11, 25)]}],\n",
    "  'prim': None,\n",
    "  'sec': None,\n",
    "  'is_weekday': True}\n",
    "\n",
    "sort_people_in_day(t_day, True)\n",
    "assign_shift(t_day, True)\n",
    "t_day['prim'], t_day['sec']\n",
    "sort_people_in_day(t_day, False)\n",
    "assign_shift(t_day, False)\n",
    "t_day['prim'], t_day['sec']"
   ]
  },
  {
   "cell_type": "code",
   "execution_count": 12,
   "id": "78c3cd22-14ba-4337-b034-15470588c6e5",
   "metadata": {
    "editable": true,
    "slideshow": {
     "slide_type": ""
    },
    "tags": []
   },
   "outputs": [],
   "source": [
    "for day in schedule: \n",
    "    sort_people_in_day(day, True)\n",
    "    assign_shift(day, True)\n",
    "    sort_people_in_day(day, False)\n",
    "    assign_shift(day, False)\n",
    "    "
   ]
  },
  {
   "cell_type": "code",
   "execution_count": 13,
   "id": "47eeb77d-aaed-4a06-a314-ca78afd78afe",
   "metadata": {
    "editable": true,
    "slideshow": {
     "slide_type": ""
    },
    "tags": []
   },
   "outputs": [
    {
     "name": "stdout",
     "output_type": "stream",
     "text": [
      "1 Chloe Ryan\n",
      "2 Chloe Bridget\n",
      "3 Paul Annabel\n",
      "4 Annabel Paul\n",
      "5 Bridget Paul\n",
      "6 Paul Bridget\n",
      "7 Ryan Chloe\n",
      "8 Annabel Paul\n",
      "9 Ryan Annabel\n",
      "10 Bridget Ryan\n",
      "11 Bridget Chloe\n",
      "12 Bridget Annabel\n",
      "13 Annabel Chloe\n",
      "14 Chloe Bridget\n",
      "15 Paul Annabel\n",
      "16 Ryan Paul\n",
      "17 Annabel Ryan\n",
      "18 Chloe Bridget\n",
      "19 Ryan Bridget\n",
      "20 Bridget Ryan\n",
      "21 Ryan Paul\n",
      "22 Paul Annabel\n",
      "23 Paul Annabel\n",
      "24 Bridget Paul\n",
      "25 Paul Ryan\n",
      "26 Annabel Chloe\n",
      "27 Chloe Ryan\n",
      "28 Chloe Annabel\n",
      "29 Paul Bridget\n",
      "30 Chloe Bridget\n"
     ]
    }
   ],
   "source": [
    "for day in schedule:\n",
    "    print(day['date'].day, day['prim']['name'], day['sec']['name'])\n"
   ]
  },
  {
   "cell_type": "code",
   "execution_count": 14,
   "id": "05585a4a-ada9-490a-a650-2b99d9596516",
   "metadata": {
    "editable": true,
    "slideshow": {
     "slide_type": ""
    },
    "tags": []
   },
   "outputs": [],
   "source": [
    "with open(\"example-cal.ics\", 'w') as cal_file:\n",
    "    cal_file.write(sched_cal.to_ical().decode(\"utf-8\"))"
   ]
  },
  {
   "cell_type": "code",
   "execution_count": null,
   "id": "172421a5-b199-4b95-a0aa-c3120a2e9669",
   "metadata": {
    "editable": true,
    "slideshow": {
     "slide_type": ""
    },
    "tags": []
   },
   "outputs": [],
   "source": []
  }
 ],
 "metadata": {
  "kernelspec": {
   "display_name": "Python 3 (ipykernel)",
   "language": "python",
   "name": "python3"
  },
  "language_info": {
   "codemirror_mode": {
    "name": "ipython",
    "version": 3
   },
   "file_extension": ".py",
   "mimetype": "text/x-python",
   "name": "python",
   "nbconvert_exporter": "python",
   "pygments_lexer": "ipython3",
   "version": "3.11.5"
  }
 },
 "nbformat": 4,
 "nbformat_minor": 5
}
