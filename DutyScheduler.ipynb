{
  "cells": [
    {
      "cell_type": "markdown",
      "id": "ea5f8674-0817-43e3-9af5-fbec4dd61400",
      "metadata": {
        "id": "ea5f8674-0817-43e3-9af5-fbec4dd61400"
      },
      "source": [
        "# Duty Scheduler Instructions"
      ]
    },
    {
      "cell_type": "markdown",
      "id": "ecda566f-6550-4e22-8243-e9cb9d82eee8",
      "metadata": {
        "id": "ecda566f-6550-4e22-8243-e9cb9d82eee8"
      },
      "source": [
        "## What are the steps to create a schedule\n",
        "\n",
        "\n",
        "1.   Input your staff names and email\n",
        "2.   Input their unavailable days\n",
        "3.   Add start date and duration of the schedule\n",
        "4.   Add days that you would like to skip\n",
        "5.   Run the Program\n",
        "6.   It will automatically download an ics file and a text file\n",
        "\n",
        "ics files, also known as iCal files, are a calendar format that is widely used. With this file, you will be able to automatically import calendar events for each person autopopulated with their names, email, and what shift they are on that day.\n",
        "\n",
        "Roompact does not have a way to do this, so if you do not want to use the ics file and copy over the days into roompact, you can just use the text file that it will also download. this contains data that looks like this\n",
        "\n",
        "**date / primaryName / SecondaryName**\n",
        "\n",
        "*   11/1 Christina Stauffer  Tiera Fields\n",
        "*   11/2 Jared Belcher\n",
        "\n",
        "with this you can more easily copy to roompact\n",
        "\n",
        "\n",
        "\n",
        "\n"
      ]
    },
    {
      "cell_type": "markdown",
      "source": [
        "# Import and Setup (Do Not Edit)\n"
      ],
      "metadata": {
        "id": "lqmjvVNev0Hn"
      },
      "id": "lqmjvVNev0Hn"
    },
    {
      "cell_type": "code",
      "execution_count": 35,
      "id": "183a9a8a-0c8f-45ad-9333-6bcb69805666",
      "metadata": {
        "editable": true,
        "tags": [],
        "id": "183a9a8a-0c8f-45ad-9333-6bcb69805666",
        "outputId": "b3355814-c4ed-4023-c0f5-bee0a108b835",
        "colab": {
          "base_uri": "https://localhost:8080/"
        }
      },
      "outputs": [
        {
          "output_type": "stream",
          "name": "stdout",
          "text": [
            "Requirement already satisfied: icalendar in /usr/local/lib/python3.10/dist-packages (5.0.10)\n",
            "Requirement already satisfied: python-dateutil in /usr/local/lib/python3.10/dist-packages (from icalendar) (2.8.2)\n",
            "Requirement already satisfied: pytz in /usr/local/lib/python3.10/dist-packages (from icalendar) (2023.3.post1)\n",
            "Requirement already satisfied: six>=1.5 in /usr/local/lib/python3.10/dist-packages (from python-dateutil->icalendar) (1.16.0)\n"
          ]
        }
      ],
      "source": [
        "from datetime import date as d\n",
        "from datetime import datetime as dt\n",
        "import random\n",
        "import sys\n",
        "!{sys.executable} -m pip install icalendar\n",
        "from icalendar import Calendar, Event, vCalAddress, vText\n",
        "import uuid"
      ]
    },
    {
      "cell_type": "code",
      "execution_count": 36,
      "id": "09b90d7e-c775-4100-a798-2e0509180af3",
      "metadata": {
        "editable": true,
        "tags": [],
        "id": "09b90d7e-c775-4100-a798-2e0509180af3"
      },
      "outputs": [],
      "source": [
        "random.seed(str(dt.now()))"
      ]
    },
    {
      "cell_type": "code",
      "execution_count": 37,
      "id": "1e023dcd-e7c7-4b8f-a6f3-0d1c74e976c0",
      "metadata": {
        "editable": true,
        "tags": [],
        "id": "1e023dcd-e7c7-4b8f-a6f3-0d1c74e976c0"
      },
      "outputs": [],
      "source": [
        "sched_cal = Calendar()\n",
        "sched_cal['summary'] = \"Duty Schedule\"\n",
        "sched_cal.add('prodid', '-//My calendar product//mxm.dk//')\n",
        "\n",
        "sched_cal.add('version', '2.0')"
      ]
    },
    {
      "cell_type": "markdown",
      "source": [
        "# Update People\n"
      ],
      "metadata": {
        "id": "0zVkDvsNv8Iz"
      },
      "id": "0zVkDvsNv8Iz"
    },
    {
      "cell_type": "code",
      "execution_count": 38,
      "id": "5c0a5c8c-5fdb-48dd-83b5-66042e44d424",
      "metadata": {
        "editable": true,
        "tags": [],
        "cellView": "code",
        "id": "5c0a5c8c-5fdb-48dd-83b5-66042e44d424"
      },
      "outputs": [],
      "source": [
        "people = [\n",
        "    {\"name\": \"Name1\",\n",
        "     \"email\": \"n1@udel.edu\",\n",
        "     \"p_wd\": 0,\n",
        "     \"s_wd\": 0,\n",
        "     \"p_we\": 0,\n",
        "     \"s_we\": 0,\n",
        "     \"unavail\": [\n",
        "        d.fromisoformat('2023-11-02'),\n",
        "    ]},\n",
        "    {\"name\": \"Name2\",\n",
        "     \"email\": \"n2@udel.edu\",\n",
        "     \"p_wd\": 0,\n",
        "     \"s_wd\": 0,\n",
        "     \"p_we\": 0,\n",
        "     \"s_we\": 0,\n",
        "     \"unavail\": [\n",
        "        d.fromisoformat('2023-11-05'),\n",
        "    ]},\n",
        "    {\"name\": \"Name3\",\n",
        "     \"email\": \"n3@udel.edu\",\n",
        "     \"p_wd\": 0,\n",
        "     \"s_wd\": 0,\n",
        "     \"p_we\": 0,\n",
        "     \"s_we\": 0,\n",
        "     \"unavail\": [\n",
        "        d.fromisoformat('2023-11-01'),\n",
        "    ]},\n",
        "    {\"name\": \"Name4\",\n",
        "     \"email\": \"n4@udel.edu\",\n",
        "     \"p_wd\": 0,\n",
        "     \"s_wd\": 0,\n",
        "     \"p_we\": 0,\n",
        "     \"s_we\": 0,\n",
        "     \"unavail\": [\n",
        "        d.fromisoformat('2023-11-27'),\n",
        "    ]},\n",
        "    {\"name\": \"Name5\",\n",
        "     \"email\": \"n5@udel.edu\",\n",
        "     \"p_wd\": 0,\n",
        "     \"s_wd\": 0,\n",
        "     \"p_we\": 0,\n",
        "     \"s_we\": 0,\n",
        "     \"unavail\": [\n",
        "        d.fromisoformat('2023-11-09'),\n",
        "    ]},\n",
        "]"
      ]
    },
    {
      "cell_type": "markdown",
      "id": "ccabf91b-17c7-4a51-8334-f92f0caed3ef",
      "metadata": {
        "editable": true,
        "tags": [],
        "id": "ccabf91b-17c7-4a51-8334-f92f0caed3ef"
      },
      "source": [
        "# create schedule dates\n",
        "Set the start_date variable like this d(year, month, day)\n",
        "set amt_days_to_sched variable to the amount of days that you would like to schedule. Ie. 30 for November, 28 for February, etc\n",
        "\n",
        "For Dates that you want to exclude from scheduling, please use the exclude_dates variable. add d(year,month,day) with a comma separating each day inside of the square brackets []"
      ]
    },
    {
      "cell_type": "code",
      "execution_count": 39,
      "id": "6d37bfd6-2f7b-41de-940e-349076d3333e",
      "metadata": {
        "editable": true,
        "tags": [],
        "id": "6d37bfd6-2f7b-41de-940e-349076d3333e"
      },
      "outputs": [],
      "source": [
        "start_date = d(2023, 11, 1)\n",
        "amt_days_to_sched = 30\n",
        "exclude_dates = []"
      ]
    },
    {
      "cell_type": "markdown",
      "source": [
        "# Scheduler (Do Not Edit)\n"
      ],
      "metadata": {
        "id": "pf-s9dx2wKUs"
      },
      "id": "pf-s9dx2wKUs"
    },
    {
      "cell_type": "code",
      "execution_count": 40,
      "id": "0a49a866-279a-4146-813e-e201a3f2e43a",
      "metadata": {
        "editable": true,
        "tags": [],
        "id": "0a49a866-279a-4146-813e-e201a3f2e43a"
      },
      "outputs": [],
      "source": [
        "schedule = []\n",
        "for date_of_month in range(1, amt_days_to_sched + 1):\n",
        "    t_date = d(start_date.year, start_date.month, date_of_month)\n",
        "    avail_people=[]\n",
        "    for person in people:\n",
        "        if t_date not in person['unavail']:\n",
        "            avail_people.append(person)\n",
        "    schedule.append({\"date\": t_date, \"avail_people\": avail_people,\"prim\": None, \"sec\": None, \"is_weekday\": True if d.weekday(t_date) < 3 or d.weekday(t_date) > 5 else False})"
      ]
    },
    {
      "cell_type": "code",
      "execution_count": 41,
      "id": "89616bf7-146b-4352-a721-96ba6abd1f17",
      "metadata": {
        "editable": true,
        "tags": [],
        "id": "89616bf7-146b-4352-a721-96ba6abd1f17"
      },
      "outputs": [],
      "source": [
        "# function for sorting keys\n",
        "\n",
        "def get_duty_count_by_p_wd(person):\n",
        "    return person['p_wd']\n",
        "\n",
        "def get_duty_count_by_p_we(person):\n",
        "    return person['p_we']\n",
        "\n",
        "def get_duty_count_by_s_wd(person):\n",
        "    return person['s_wd']\n",
        "\n",
        "def get_duty_count_by_s_we(person):\n",
        "    return person['s_we']"
      ]
    },
    {
      "cell_type": "code",
      "execution_count": 42,
      "id": "7f658f23-2b74-4776-9b2c-0d36c15fc5ac",
      "metadata": {
        "editable": true,
        "tags": [],
        "id": "7f658f23-2b74-4776-9b2c-0d36c15fc5ac"
      },
      "outputs": [],
      "source": [
        "# sort people in day by selected shift and daytype\n",
        "\n",
        "def sort_people_in_day(date, prim):\n",
        "    random.shuffle(date['avail_people'])\n",
        "    if prim is True and date['is_weekday'] is True:\n",
        "        return date['avail_people'].sort(key=get_duty_count_by_p_wd)\n",
        "    elif prim is True and date['is_weekday'] is False:\n",
        "        return date['avail_people'].sort(key=get_duty_count_by_p_we)\n",
        "    elif prim is False and date['is_weekday'] is True:\n",
        "        return date['avail_people'].sort(key=get_duty_count_by_s_wd)\n",
        "    else:\n",
        "        return date['avail_people'].sort(key=get_duty_count_by_s_we)"
      ]
    },
    {
      "cell_type": "code",
      "execution_count": 43,
      "id": "1b01a361-4356-4dd5-b35d-35d88e187b80",
      "metadata": {
        "editable": true,
        "tags": [],
        "id": "1b01a361-4356-4dd5-b35d-35d88e187b80"
      },
      "outputs": [],
      "source": [
        "def assign_shift(date, prim):\n",
        "    i_person = 0\n",
        "    if prim is True:\n",
        "        while date['sec'] == date['avail_people'][i_person]:\n",
        "            if i_person is len(date['avail_people']):\n",
        "                raise IndexError(\"Could not find person available that was not self\")\n",
        "            else:\n",
        "                i_person+=1\n",
        "        date['prim'] = date['avail_people'][i_person]\n",
        "        shift_event = Event()\n",
        "        shift_event['uid'] = uuid.uuid1()\n",
        "        shift_event['summary'] = date['prim']['name'] + \" - Primary\"\n",
        "        attendee = vCalAddress('MAILTO:'+date['prim']['email'])\n",
        "        attendee.params['cn'] = vText(date['prim']['name'])\n",
        "        attendee.params['ROLE'] = vText('REQ-PARTICIPANT')\n",
        "        shift_event.add('attendee', attendee, encode=0)\n",
        "        shift_event.add('dtstamp', dt.now())\n",
        "        shift_event.add('dtstart', dt(date['date'].year, date['date'].month, date['date'].day, 19, 0,0))\n",
        "        shift_event.add('dtend', dt(date['date'].year, date['date'].month, date['date'].day, 23, 59,59))\n",
        "        shift_event['dtstamp'].to_ical()\n",
        "        shift_event['dtstart'].to_ical()\n",
        "        shift_event['dtend'].to_ical()\n",
        "        sched_cal.add_component(shift_event)\n",
        "        if date['is_weekday'] is True:\n",
        "            date['avail_people'][i_person]['p_wd'] = date['avail_people'][i_person]['p_wd'] + 1\n",
        "        else:\n",
        "            date['avail_people'][i_person]['p_we'] = date['avail_people'][i_person]['p_we'] + 1\n",
        "        # eventually add to calendar\n",
        "    else:\n",
        "        while date['prim'] == date['avail_people'][i_person]:\n",
        "            if i_person is len(date['avail_people']):\n",
        "                raise IndexError(\"Could not find person available that was not self\")\n",
        "            else:\n",
        "                i_person+=1\n",
        "        date['sec'] = date['avail_people'][i_person]\n",
        "        shift_event = Event()\n",
        "        shift_event['uid'] = uuid.uuid1()\n",
        "        shift_event['summary'] = date['sec']['name'] + \" - Secondary\"\n",
        "        attendee = vCalAddress('MAILTO:'+date['sec']['email'])\n",
        "        attendee.params['cn'] = vText(date['sec']['name'])\n",
        "        attendee.params['ROLE'] = vText('REQ-PARTICIPANT')\n",
        "        shift_event.add('attendee', attendee, encode=0)\n",
        "        shift_event.add('dtstamp', dt.now())\n",
        "        shift_event.add('dtstart', dt(date['date'].year, date['date'].month, date['date'].day, 7, 0,0))\n",
        "        shift_event.add('dtend', dt(date['date'].year, date['date'].month, date['date'].day, 23, 59,59))\n",
        "        shift_event['dtstamp'].to_ical()\n",
        "        shift_event['dtstart'].to_ical()\n",
        "        shift_event['dtend'].to_ical()\n",
        "        sched_cal.add_component(shift_event)\n",
        "        if date['is_weekday'] is True:\n",
        "            date['avail_people'][i_person]['s_wd'] = date['avail_people'][i_person]['s_wd'] + 1\n",
        "        else:\n",
        "            date['avail_people'][i_person]['s_we'] = date['avail_people'][i_person]['s_we'] + 1\n",
        "        # eventually add to calendar"
      ]
    },
    {
      "cell_type": "code",
      "execution_count": 44,
      "id": "78c3cd22-14ba-4337-b034-15470588c6e5",
      "metadata": {
        "editable": true,
        "tags": [],
        "id": "78c3cd22-14ba-4337-b034-15470588c6e5"
      },
      "outputs": [],
      "source": [
        "for day in schedule:\n",
        "    sort_people_in_day(day, True)\n",
        "    assign_shift(day, True)\n",
        "    sort_people_in_day(day, False)\n",
        "    assign_shift(day, False)\n",
        ""
      ]
    },
    {
      "cell_type": "markdown",
      "source": [
        "# Output (Do Not Edit)"
      ],
      "metadata": {
        "id": "2o-vNGWGwZFP"
      },
      "id": "2o-vNGWGwZFP"
    },
    {
      "cell_type": "code",
      "execution_count": 45,
      "id": "05585a4a-ada9-490a-a650-2b99d9596516",
      "metadata": {
        "editable": true,
        "tags": [],
        "id": "05585a4a-ada9-490a-a650-2b99d9596516"
      },
      "outputs": [],
      "source": [
        "with open(\"schedule.ics\", 'w') as cal_file:\n",
        "    cal_file.write(sched_cal.to_ical().decode(\"utf-8\"))"
      ]
    },
    {
      "cell_type": "code",
      "source": [
        "dty_string = \"\"\n",
        "for day in schedule:\n",
        "  dty_string = dty_string + str(day['date'].month)  + \"/\" + str(day['date'].day) + \" \" + day['prim']['name'] + \" \" + day['sec']['name'] + '\\n'\n",
        "dty_string"
      ],
      "metadata": {
        "id": "cSwLvarSxQ8y",
        "outputId": "cec357cf-c976-430f-fc9c-6cfc6d8fe47b",
        "colab": {
          "base_uri": "https://localhost:8080/",
          "height": 0
        }
      },
      "id": "cSwLvarSxQ8y",
      "execution_count": 46,
      "outputs": [
        {
          "output_type": "execute_result",
          "data": {
            "text/plain": [
              "'11/1 Name2 Name5\\n11/2 Name3 Name2\\n11/3 Name4 Name1\\n11/4 Name5 Name4\\n11/5 Name3 Name4\\n11/6 Name1 Name3\\n11/7 Name4 Name1\\n11/8 Name5 Name2\\n11/9 Name2 Name3\\n11/10 Name1 Name5\\n11/11 Name3 Name2\\n11/12 Name4 Name5\\n11/13 Name3 Name2\\n11/14 Name2 Name4\\n11/15 Name1 Name3\\n11/16 Name4 Name1\\n11/17 Name1 Name3\\n11/18 Name2 Name4\\n11/19 Name5 Name1\\n11/20 Name3 Name1\\n11/21 Name2 Name5\\n11/22 Name5 Name4\\n11/23 Name5 Name3\\n11/24 Name3 Name5\\n11/25 Name5 Name2\\n11/26 Name1 Name3\\n11/27 Name5 Name2\\n11/28 Name4 Name1\\n11/29 Name1 Name5\\n11/30 Name1 Name5\\n'"
            ],
            "application/vnd.google.colaboratory.intrinsic+json": {
              "type": "string"
            }
          },
          "metadata": {},
          "execution_count": 46
        }
      ]
    },
    {
      "cell_type": "code",
      "execution_count": 47,
      "id": "172421a5-b199-4b95-a0aa-c3120a2e9669",
      "metadata": {
        "editable": true,
        "tags": [],
        "id": "172421a5-b199-4b95-a0aa-c3120a2e9669"
      },
      "outputs": [],
      "source": [
        "with open(\"schedule.txt\", 'w') as txt_file:\n",
        "  txt_file.write(dty_string)"
      ]
    },
    {
      "cell_type": "code",
      "source": [],
      "metadata": {
        "id": "GbKfO2HDw5FL"
      },
      "id": "GbKfO2HDw5FL",
      "execution_count": 47,
      "outputs": []
    }
  ],
  "metadata": {
    "kernelspec": {
      "display_name": "Python 3 (ipykernel)",
      "language": "python",
      "name": "python3"
    },
    "language_info": {
      "codemirror_mode": {
        "name": "ipython",
        "version": 3
      },
      "file_extension": ".py",
      "mimetype": "text/x-python",
      "name": "python",
      "nbconvert_exporter": "python",
      "pygments_lexer": "ipython3",
      "version": "3.11.5"
    },
    "colab": {
      "provenance": []
    }
  },
  "nbformat": 4,
  "nbformat_minor": 5
}