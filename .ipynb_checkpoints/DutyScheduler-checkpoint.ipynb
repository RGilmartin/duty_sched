{
 "cells": [
  {
   "cell_type": "markdown",
   "id": "ea5f8674-0817-43e3-9af5-fbec4dd61400",
   "metadata": {
    "id": "ea5f8674-0817-43e3-9af5-fbec4dd61400"
   },
   "source": [
    "# Duty Scheduler Instructions"
   ]
  },
  {
   "cell_type": "markdown",
   "id": "ecda566f-6550-4e22-8243-e9cb9d82eee8",
   "metadata": {
    "id": "ecda566f-6550-4e22-8243-e9cb9d82eee8"
   },
   "source": [
    "## What are the steps to create a schedule\n",
    "\n",
    "\n",
    "1.   Input your staff names and email\n",
    "2.   Input their unavailable days\n",
    "3.   Add start date and duration of the schedule\n",
    "4.   Add days that you would like to skip\n",
    "5.   Run the Program\n",
    "6.   It will automatically download an ics file and a text file\n",
    "\n",
    "ics files, also known as iCal files, are a calendar format that is widely used. With this file, you will be able to automatically import calendar events for each person autopopulated with their names, email, and what shift they are on that day.\n",
    "\n",
    "Roompact does not have a way to do this, so if you do not want to use the ics file and copy over the days into roompact, you can just use the text file that it will also download. this contains data that looks like this\n",
    "\n",
    "**date / primaryName / SecondaryName**\n",
    "\n",
    "*   11/1 Christina Stauffer  Tiera Fields\n",
    "*   11/2 Jared Belcher\n",
    "\n",
    "with this you can more easily copy to roompact\n",
    "\n",
    "### common errors\n",
    "\n",
    "If you press run and no files are created. Scroll down, as there are probably errors. if there is an error: \n",
    "\n",
    "IndexError: list index out of range\n",
    "\n",
    "This means that there is a day of the month where there are not enough people available to work this. If this happens you will have to remove an unavailable day\n",
    "\n",
    "\n"
   ]
  },
  {
   "cell_type": "markdown",
   "id": "lqmjvVNev0Hn",
   "metadata": {
    "id": "lqmjvVNev0Hn"
   },
   "source": [
    "# Import and Setup (Do Not Edit)\n"
   ]
  },
  {
   "cell_type": "code",
   "execution_count": 18,
   "id": "183a9a8a-0c8f-45ad-9333-6bcb69805666",
   "metadata": {
    "colab": {
     "base_uri": "https://localhost:8080/"
    },
    "editable": true,
    "id": "183a9a8a-0c8f-45ad-9333-6bcb69805666",
    "outputId": "b3355814-c4ed-4023-c0f5-bee0a108b835",
    "tags": []
   },
   "outputs": [
    {
     "name": "stdout",
     "output_type": "stream",
     "text": [
      "Requirement already satisfied: icalendar in c:\\python311\\lib\\site-packages (5.0.10)\n",
      "Requirement already satisfied: python-dateutil in c:\\python311\\lib\\site-packages (from icalendar) (2.8.2)\n",
      "Requirement already satisfied: pytz in c:\\python311\\lib\\site-packages (from icalendar) (2023.3.post1)\n",
      "Requirement already satisfied: six>=1.5 in c:\\python311\\lib\\site-packages (from python-dateutil->icalendar) (1.16.0)\n"
     ]
    },
    {
     "name": "stderr",
     "output_type": "stream",
     "text": [
      "\n",
      "[notice] A new release of pip is available: 23.3.1 -> 23.3.2\n",
      "[notice] To update, run: python.exe -m pip install --upgrade pip\n"
     ]
    }
   ],
   "source": [
    "from datetime import date as d\n",
    "from datetime import datetime as dt\n",
    "import random\n",
    "import sys\n",
    "!{sys.executable} -m pip install icalendar\n",
    "from icalendar import Calendar, Event, vCalAddress, vText\n",
    "import uuid\n",
    "import tempfile, os"
   ]
  },
  {
   "cell_type": "code",
   "execution_count": 19,
   "id": "09b90d7e-c775-4100-a798-2e0509180af3",
   "metadata": {
    "editable": true,
    "id": "09b90d7e-c775-4100-a798-2e0509180af3",
    "tags": []
   },
   "outputs": [],
   "source": [
    "random.seed(str(dt.now()))"
   ]
  },
  {
   "cell_type": "code",
   "execution_count": 20,
   "id": "1e023dcd-e7c7-4b8f-a6f3-0d1c74e976c0",
   "metadata": {
    "editable": true,
    "id": "1e023dcd-e7c7-4b8f-a6f3-0d1c74e976c0",
    "tags": []
   },
   "outputs": [],
   "source": [
    "sched_cal = Calendar()\n",
    "sched_cal['summary'] = \"Duty Schedule\"\n",
    "sched_cal.add('prodid', '-//My calendar product//mxm.dk//')\n",
    "sched_cal.add('version', '2.0')"
   ]
  },
  {
   "cell_type": "markdown",
   "id": "0zVkDvsNv8Iz",
   "metadata": {
    "id": "0zVkDvsNv8Iz"
   },
   "source": [
    "# Update People\n"
   ]
  },
  {
   "cell_type": "code",
   "execution_count": 21,
   "id": "5c0a5c8c-5fdb-48dd-83b5-66042e44d424",
   "metadata": {
    "cellView": "code",
    "editable": true,
    "id": "5c0a5c8c-5fdb-48dd-83b5-66042e44d424",
    "tags": []
   },
   "outputs": [],
   "source": [
    "people = [\n",
    "    {\"name\": \"Logan Mull\",\n",
    "     \"email\": \"logmull@udel.edu\",\n",
    "     \"p_wd\": 0,\n",
    "     \"s_wd\": 0,\n",
    "     \"p_we\": 0,\n",
    "     \"s_we\": 0,\n",
    "     \"unavail\": [\n",
    "    ]},\n",
    "    {\"name\": \"Bridget Knutsen\",\n",
    "     \"email\": \"bknutsen@udel.edu\",\n",
    "     \"p_wd\": 0,\n",
    "     \"s_wd\": 0,\n",
    "     \"p_we\": 0,\n",
    "     \"s_we\": 0,\n",
    "     \"unavail\": [\n",
    "    ]},\n",
    "    {\"name\": \"Iyanna Register\",\n",
    "     \"email\": \"iyareg@udel.edu\",\n",
    "     \"p_wd\": 0,\n",
    "     \"s_wd\": 0,\n",
    "     \"p_we\": 0,\n",
    "     \"s_we\": 0,\n",
    "     \"unavail\": [\n",
    "        d.fromisoformat('2024-02-01'),\n",
    "    ]},\n",
    "    {\"name\": \"Toby Conti\",\n",
    "     \"email\": \"tobyc@udel.edu\",\n",
    "     \"p_wd\": 0,\n",
    "     \"s_wd\": 0,\n",
    "     \"p_we\": 0,\n",
    "     \"s_we\": 0,\n",
    "     \"unavail\": [\n",
    "        d.fromisoformat('2024-02-05'),\n",
    "         d.fromisoformat('2024-02-12'),\n",
    "         d.fromisoformat('2024-02-19'),\n",
    "         d.fromisoformat('2024-02-26')\n",
    "    ]},\n",
    "    {\"name\": \"Caitlin Mooney\",\n",
    "     \"email\": \"caitmoon@udel.edu\",\n",
    "     \"p_wd\": 0,\n",
    "     \"s_wd\": 0,\n",
    "     \"p_we\": 0,\n",
    "     \"s_we\": 0,\n",
    "     \"unavail\": [\n",
    "    ]},\n",
    "    {\"name\": \"Chloe Terrell\",\n",
    "     \"email\": \"cterrell@udel.edu\",\n",
    "     \"p_wd\": 0,\n",
    "     \"s_wd\": 0,\n",
    "     \"p_we\": 0,\n",
    "     \"s_we\": 0,\n",
    "     \"unavail\": [\n",
    "        d.fromisoformat('2024-02-07'),\n",
    "         d.fromisoformat('2024-02-14'),\n",
    "         d.fromisoformat('2024-02-21'),\n",
    "         d.fromisoformat('2024-02-28')\n",
    "    ]},\n",
    "    {\"name\": \"Dana Ridall\",\n",
    "     \"email\": \"dridall@udel.edu\",\n",
    "     \"p_wd\": 0,\n",
    "     \"s_wd\": 0,\n",
    "     \"p_we\": 0,\n",
    "     \"s_we\": 0,\n",
    "     \"unavail\": [\n",
    "        d.fromisoformat('2024-02-08'),\n",
    "         d.fromisoformat('2024-02-15'),\n",
    "         d.fromisoformat('2024-02-22'),\n",
    "         d.fromisoformat('2024-02-29')\n",
    "    ]},\n",
    "    {\"name\": \"Mia Lask\",\n",
    "     \"email\": \"mlask@udel.edu\",\n",
    "     \"p_wd\": 0,\n",
    "     \"s_wd\": 0,\n",
    "     \"p_we\": 0,\n",
    "     \"s_we\": 0,\n",
    "     \"unavail\": [\n",
    "    ]},\n",
    "    {\"name\": \"Bear Figueroa\",\n",
    "     \"email\": \"bearfig@udel.edu\",\n",
    "     \"p_wd\": 0,\n",
    "     \"s_wd\": 0,\n",
    "     \"p_we\": 0,\n",
    "     \"s_we\": 0,\n",
    "     \"unavail\": [\n",
    "        d.fromisoformat('2024-02-07'),\n",
    "         d.fromisoformat('2024-02-14'),\n",
    "         d.fromisoformat('2024-02-21'),\n",
    "         d.fromisoformat('2024-02-28')\n",
    "    ]},\n",
    "    {\"name\": \"Ryan Gilmartin\",\n",
    "     \"email\": \"rgilm@udel.edu\",\n",
    "     \"p_wd\": 0,\n",
    "     \"s_wd\": 0,\n",
    "     \"p_we\": 0,\n",
    "     \"s_we\": 0,\n",
    "     \"unavail\": [\n",
    "         d.fromisoformat('2024-02-08'),\n",
    "         d.fromisoformat('2024-02-09'),\n",
    "         d.fromisoformat('2024-02-10'),\n",
    "         d.fromisoformat('2024-02-11')\n",
    "    ]},\n",
    "    {\"name\": \"Annabel Strootman\",\n",
    "     \"email\": \"annabels@udel.edu\",\n",
    "     \"p_wd\": 0,\n",
    "     \"s_wd\": 0,\n",
    "     \"p_we\": 0,\n",
    "     \"s_we\": 0,\n",
    "     \"unavail\": [\n",
    "    ]},\n",
    "    {\"name\": \"Caroline Aldred\",\n",
    "     \"email\": \"caldred@udel.edu\",\n",
    "     \"p_wd\": 0,\n",
    "     \"s_wd\": 0,\n",
    "     \"p_we\": 0,\n",
    "     \"s_we\": 0,\n",
    "     \"unavail\": [\n",
    "         d.fromisoformat('2024-02-14'),\n",
    "         d.fromisoformat('2024-02-13'),\n",
    "         d.fromisoformat('2024-02-20'),\n",
    "         d.fromisoformat('2024-02-27'),\n",
    "         d.fromisoformat('2024-02-16'),\n",
    "         d.fromisoformat('2024-02-17'),\n",
    "         d.fromisoformat('2024-02-23'),\n",
    "         d.fromisoformat('2024-02-24'),\n",
    "         d.fromisoformat('2024-02-25'),\n",
    "         d.fromisoformat('2024-02-18'),\n",
    "         d.fromisoformat('2024-02-08'),\n",
    "         d.fromisoformat('2024-02-17')\n",
    "    ]},\n",
    "    {\"name\": \"Kayla Costin\",\n",
    "     \"email\": \"kaylanc@udel.edu\",\n",
    "     \"p_wd\": 0,\n",
    "     \"s_wd\": 0,\n",
    "     \"p_we\": 0,\n",
    "     \"s_we\": 0,\n",
    "     \"unavail\": [\n",
    "         d.fromisoformat('2024-02-09'),\n",
    "         d.fromisoformat('2024-02-10'),\n",
    "         d.fromisoformat('2024-02-11'),\n",
    "         d.fromisoformat('2024-02-16'),\n",
    "         d.fromisoformat('2024-02-17'),\n",
    "         d.fromisoformat('2024-02-18'),\n",
    "         d.fromisoformat('2024-02-19'),\n",
    "         d.fromisoformat('2024-02-23'),\n",
    "         d.fromisoformat('2024-02-24'),\n",
    "         d.fromisoformat('2024-02-25')\n",
    "    ]},\n",
    "    {\"name\": \"Paul Akers\",\n",
    "     \"email\": \"paulda@udel.edu\",\n",
    "     \"p_wd\": 0,\n",
    "     \"s_wd\": 0,\n",
    "     \"p_we\": 0,\n",
    "     \"s_we\": 0,\n",
    "     \"unavail\": [\n",
    "         d.fromisoformat('2024-02-05'),\n",
    "         d.fromisoformat('2024-02-07'),\n",
    "         d.fromisoformat('2024-02-09'),\n",
    "         d.fromisoformat('2024-02-12'),\n",
    "         d.fromisoformat('2024-02-14'),\n",
    "         d.fromisoformat('2024-02-16'),\n",
    "         d.fromisoformat('2024-02-19'),\n",
    "         d.fromisoformat('2024-02-21'),\n",
    "         d.fromisoformat('2024-02-23'),\n",
    "         d.fromisoformat('2024-02-26'),\n",
    "         d.fromisoformat('2024-02-28'),\n",
    "         d.fromisoformat('2024-02-10'),\n",
    "         d.fromisoformat('2024-02-17'),\n",
    "         d.fromisoformat('2024-02-24')\n",
    "    ]},\n",
    "    {\"name\": \"Jules lacey\",\n",
    "     \"email\": \"jlacey@udel.edu\",\n",
    "     \"p_wd\": 0,\n",
    "     \"s_wd\": 0,\n",
    "     \"p_we\": 0,\n",
    "     \"s_we\": 0,\n",
    "     \"unavail\": [\n",
    "    ]},\n",
    "    {\"name\": \"Mark Foerster\",\n",
    "     \"email\": \"foerster@udel.edu\",\n",
    "     \"p_wd\": 0,\n",
    "     \"s_wd\": 0,\n",
    "     \"p_we\": 0,\n",
    "     \"s_we\": 0,\n",
    "     \"unavail\": [\n",
    "    ]},\n",
    "]"
   ]
  },
  {
   "cell_type": "markdown",
   "id": "ccabf91b-17c7-4a51-8334-f92f0caed3ef",
   "metadata": {
    "editable": true,
    "id": "ccabf91b-17c7-4a51-8334-f92f0caed3ef",
    "tags": []
   },
   "source": [
    "# create schedule dates\n",
    "Set the start_date variable like this d(year, month, day)\n",
    "set amt_days_to_sched variable to the amount of days that you would like to schedule. Ie. 30 for November, 28 for February, etc\n",
    "\n",
    "For Dates that you want to exclude from scheduling, please use the exclude_dates variable. add d(year,month,day) with a comma separating each day inside of the square brackets []"
   ]
  },
  {
   "cell_type": "code",
   "execution_count": 22,
   "id": "6d37bfd6-2f7b-41de-940e-349076d3333e",
   "metadata": {
    "editable": true,
    "id": "6d37bfd6-2f7b-41de-940e-349076d3333e",
    "tags": []
   },
   "outputs": [],
   "source": [
    "start_date = d(2024, 1, 1)\n",
    "amt_days_to_sched = 29\n",
    "exclude_dates = []"
   ]
  },
  {
   "cell_type": "markdown",
   "id": "pf-s9dx2wKUs",
   "metadata": {
    "id": "pf-s9dx2wKUs"
   },
   "source": [
    "# Scheduler (Do Not Edit)\n"
   ]
  },
  {
   "cell_type": "code",
   "execution_count": 23,
   "id": "0a49a866-279a-4146-813e-e201a3f2e43a",
   "metadata": {
    "editable": true,
    "id": "0a49a866-279a-4146-813e-e201a3f2e43a",
    "tags": []
   },
   "outputs": [],
   "source": [
    "schedule = []\n",
    "for date_of_month in range(1, amt_days_to_sched + 1):\n",
    "    t_date = d(start_date.year, start_date.month, date_of_month)\n",
    "    if t_date not in exclude_dates:\n",
    "        avail_people=[]\n",
    "        for person in people:\n",
    "            if t_date not in person['unavail']:\n",
    "                avail_people.append(person)\n",
    "        schedule.append({\"date\": t_date, \"avail_people\": avail_people,\"prim\": None, \"sec\": None, \"is_weekday\": True if d.weekday(t_date) < 3 or d.weekday(t_date) > 5 else False})"
   ]
  },
  {
   "cell_type": "code",
   "execution_count": 24,
   "id": "89616bf7-146b-4352-a721-96ba6abd1f17",
   "metadata": {
    "editable": true,
    "id": "89616bf7-146b-4352-a721-96ba6abd1f17",
    "tags": []
   },
   "outputs": [],
   "source": [
    "# function for sorting keys\n",
    "\n",
    "def get_duty_count_by_p_wd(person):\n",
    "    return person['p_wd']\n",
    "\n",
    "def get_duty_count_by_p_we(person):\n",
    "    return person['p_we']\n",
    "\n",
    "def get_duty_count_by_s_wd(person):\n",
    "    return person['s_wd']\n",
    "\n",
    "def get_duty_count_by_s_we(person):\n",
    "    return person['s_we']"
   ]
  },
  {
   "cell_type": "code",
   "execution_count": 25,
   "id": "7f658f23-2b74-4776-9b2c-0d36c15fc5ac",
   "metadata": {
    "editable": true,
    "id": "7f658f23-2b74-4776-9b2c-0d36c15fc5ac",
    "tags": []
   },
   "outputs": [],
   "source": [
    "# sort people in day by selected shift and daytype\n",
    "\n",
    "def sort_people_in_day(date, prim):\n",
    "    random.shuffle(date['avail_people'])\n",
    "    if prim is True and date['is_weekday'] is True:\n",
    "        return date['avail_people'].sort(key=get_duty_count_by_p_wd)\n",
    "    elif prim is True and date['is_weekday'] is False:\n",
    "        return date['avail_people'].sort(key=get_duty_count_by_p_we)\n",
    "    elif prim is False and date['is_weekday'] is True:\n",
    "        return date['avail_people'].sort(key=get_duty_count_by_s_wd)\n",
    "    else:\n",
    "        return date['avail_people'].sort(key=get_duty_count_by_s_we)"
   ]
  },
  {
   "cell_type": "code",
   "execution_count": 26,
   "id": "1b01a361-4356-4dd5-b35d-35d88e187b80",
   "metadata": {
    "editable": true,
    "id": "1b01a361-4356-4dd5-b35d-35d88e187b80",
    "tags": []
   },
   "outputs": [],
   "source": [
    "def assign_shift(date, prim):\n",
    "    i_person = 0\n",
    "    if prim is True:\n",
    "        if len(date['avail_people']) == 1 and date['sec'] == date['avail_people'][i_person]:\n",
    "            raise IndexError(\"Could not find person available that was not self on day \" + str(date['date'].day))\n",
    "        while date['sec'] == date['avail_people'][i_person]:\n",
    "            if i_person is len(date['avail_people']):\n",
    "                raise IndexError(\"Could not find person available that was not self\"  + str(date['date']))\n",
    "            else:\n",
    "                i_person+=1\n",
    "                \n",
    "        date['prim'] = date['avail_people'][i_person]\n",
    "        shift_event = Event()\n",
    "        shift_event['uid'] = uuid.uuid1()\n",
    "        shift_event['summary'] = date['prim']['name'] + \" - Primary\"\n",
    "        #attendee = vCalAddress('MAILTO:'+date['prim']['email'])\n",
    "        #attendee.params['cn'] = vText(date['prim']['name'])\n",
    "        #attendee.params['ROLE'] = vText('REQ-PARTICIPANT')\n",
    "        #shift_event.add('attendee', attendee, encode=0)\n",
    "        shift_event.add('dtstamp', dt.now())\n",
    "        shift_event.add('dtstart', dt(date['date'].year, date['date'].month, date['date'].day, 19, 0,0))\n",
    "        shift_event.add('dtend', dt(date['date'].year, date['date'].month, date['date'].day, 23, 59,59))\n",
    "        shift_event['dtstamp'].to_ical()\n",
    "        shift_event['dtstart'].to_ical()\n",
    "        shift_event['dtend'].to_ical()\n",
    "        sched_cal.add_component(shift_event)\n",
    "        if date['is_weekday'] is True:\n",
    "            date['avail_people'][i_person]['p_wd'] = date['avail_people'][i_person]['p_wd'] + 1\n",
    "        else:\n",
    "            date['avail_people'][i_person]['p_we'] = date['avail_people'][i_person]['p_we'] + 1\n",
    "    \n",
    "    else:\n",
    "        if len(date['avail_people']) == 1 and date['prim'] == date['avail_people'][i_person]:\n",
    "            raise IndexError(\"Could not find person available that was not self\"  + str(date['date']))\n",
    "        while date['prim'] == date['avail_people'][i_person]:\n",
    "            if i_person is len(date['avail_people']):\n",
    "                raise IndexError(\"Could not find person available that was not self\"  + str(date['date']))\n",
    "            else:\n",
    "                i_person+=1\n",
    "        date['sec'] = date['avail_people'][i_person]\n",
    "        shift_event = Event()\n",
    "        shift_event['uid'] = uuid.uuid1()\n",
    "        shift_event['summary'] = date['sec']['name'] + \" - Secondary\"\n",
    "        #attendee = vCalAddress('MAILTO:'+date['sec']['email'])\n",
    "        #attendee.params['cn'] = vText(date['sec']['name'])\n",
    "        #attendee.params['ROLE'] = vText('REQ-PARTICIPANT')\n",
    "        #shift_event.add('attendee', attendee, encode=0)\n",
    "        shift_event.add('dtstamp', dt.now())\n",
    "        shift_event.add('dtstart', dt(date['date'].year, date['date'].month, date['date'].day, 17, 0,0))\n",
    "        shift_event.add('dtend', dt(date['date'].year, date['date'].month, date['date'].day, 23, 59,59))\n",
    "        shift_event['dtstamp'].to_ical()\n",
    "        shift_event['dtstart'].to_ical()\n",
    "        shift_event['dtend'].to_ical()\n",
    "        sched_cal.add_component(shift_event)\n",
    "        if date['is_weekday'] is True:\n",
    "            date['avail_people'][i_person]['s_wd'] = date['avail_people'][i_person]['s_wd'] + 1\n",
    "        else:\n",
    "            date['avail_people'][i_person]['s_we'] = date['avail_people'][i_person]['s_we'] + 1\n",
    " "
   ]
  },
  {
   "cell_type": "code",
   "execution_count": 27,
   "id": "620298a4-5b2e-44ed-84fc-080f5f963f56",
   "metadata": {},
   "outputs": [],
   "source": [
    "def sort_by_date(day):\n",
    "    return day['date'].day"
   ]
  },
  {
   "cell_type": "code",
   "execution_count": 28,
   "id": "78c3cd22-14ba-4337-b034-15470588c6e5",
   "metadata": {
    "editable": true,
    "id": "78c3cd22-14ba-4337-b034-15470588c6e5",
    "tags": []
   },
   "outputs": [],
   "source": [
    "for day in schedule:\n",
    "    sort_people_in_day(day, True)\n",
    "    assign_shift(day, True)\n",
    "    sort_people_in_day(day, False)\n",
    "    assign_shift(day, False)\n",
    "schedule.sort(key=sort_by_date)"
   ]
  },
  {
   "cell_type": "markdown",
   "id": "2o-vNGWGwZFP",
   "metadata": {
    "id": "2o-vNGWGwZFP"
   },
   "source": [
    "# Output (Do Not Edit)"
   ]
  },
  {
   "cell_type": "code",
   "execution_count": 29,
   "id": "05585a4a-ada9-490a-a650-2b99d9596516",
   "metadata": {
    "editable": true,
    "id": "05585a4a-ada9-490a-a650-2b99d9596516",
    "tags": []
   },
   "outputs": [],
   "source": [
    "directory = tempfile.mkdtemp()\n",
    "f = open(os.path.join(directory, 'example.ics'), 'wb')\n",
    "f.write(sched_cal.to_ical())\n",
    "f.close()"
   ]
  },
  {
   "cell_type": "code",
   "execution_count": 30,
   "id": "cSwLvarSxQ8y",
   "metadata": {
    "id": "cSwLvarSxQ8y"
   },
   "outputs": [],
   "source": [
    "dty_string = \"\"\n",
    "for day in schedule:\n",
    "  dty_string = dty_string + str(day['date'].month)  + \"/\" + str(day['date'].day) + \" \" + day['prim']['name'] + \" \" + day['sec']['name'] + '\\n'"
   ]
  },
  {
   "cell_type": "code",
   "execution_count": 31,
   "id": "172421a5-b199-4b95-a0aa-c3120a2e9669",
   "metadata": {
    "editable": true,
    "id": "172421a5-b199-4b95-a0aa-c3120a2e9669",
    "tags": []
   },
   "outputs": [],
   "source": [
    "with open(\"schedule.txt\", 'w') as txt_file:\n",
    "  txt_file.write(dty_string)"
   ]
  },
  {
   "cell_type": "code",
   "execution_count": 32,
   "id": "GbKfO2HDw5FL",
   "metadata": {
    "id": "GbKfO2HDw5FL"
   },
   "outputs": [
    {
     "name": "stdout",
     "output_type": "stream",
     "text": [
      "Primary weekday avg: 1.062 | lowest: 1.000\n",
      "Primary weekend avg: 0.750 | lowest: 0.000\n",
      "Secondary weekday avg: 1.062 | lowest: 1.000\n",
      "Secondary weekend avg: 0.750 | lowest: 0.000\n"
     ]
    }
   ],
   "source": [
    "p_wd_sum = 0\n",
    "p_wd_lowest = 10\n",
    "p_we_sum = 0\n",
    "p_we_lowest = 10\n",
    "s_wd_sum = 0\n",
    "s_wd_lowest = 10\n",
    "s_we_sum = 0\n",
    "s_we_lowest = 10\n",
    "\n",
    "for person in people:\n",
    "    if person['p_wd'] < p_wd_lowest:\n",
    "        p_wd_lowest = person['p_wd']\n",
    "    p_wd_sum += person['p_wd']\n",
    "    if person['p_we'] < p_we_lowest:\n",
    "        p_we_lowest = person['p_we']\n",
    "    p_we_sum += person['p_we']\n",
    "    if person['s_wd'] < s_wd_lowest:\n",
    "        s_wd_lowest = person['s_wd']\n",
    "    s_wd_sum += person['s_wd']\n",
    "    if person['s_we'] < s_we_lowest:\n",
    "        s_we_lowest = person['s_we']\n",
    "    s_we_sum += person['s_we']\n",
    "\n",
    "print(\"Primary weekday avg: %1.3f | lowest: %1.3f\" % ((p_wd_sum / len(people)), p_wd_lowest))\n",
    "print(\"Primary weekend avg: %1.3f | lowest: %1.3f\" % ((p_we_sum / len(people)), p_we_lowest))\n",
    "print(\"Secondary weekday avg: %1.3f | lowest: %1.3f\" % ((s_wd_sum / len(people)), s_wd_lowest))\n",
    "print(\"Secondary weekend avg: %1.3f | lowest: %1.3f\" % ((s_we_sum / len(people)), s_we_lowest))"
   ]
  },
  {
   "cell_type": "code",
   "execution_count": 33,
   "id": "955649b5-ed50-413d-bc88-6688581d3f39",
   "metadata": {},
   "outputs": [
    {
     "name": "stdout",
     "output_type": "stream",
     "text": [
      "Logan Mull: 4.000\n",
      "Bridget Knutsen: 3.000\n",
      "Iyanna Register: 4.000\n",
      "Toby Conti: 5.000\n",
      "Caitlin Mooney: 3.000\n",
      "Chloe Terrell: 4.000\n",
      "Dana Ridall: 4.000\n",
      "Mia Lask: 4.000\n",
      "Bear Figueroa: 3.000\n",
      "Ryan Gilmartin: 3.000\n",
      "Annabel Strootman: 3.000\n",
      "Caroline Aldred: 4.000\n",
      "Kayla Costin: 4.000\n",
      "Paul Akers: 2.000\n",
      "Jules lacey: 4.000\n",
      "Mark Foerster: 4.000\n"
     ]
    }
   ],
   "source": [
    "for person in people: \n",
    "    print(\"%s: %1.3f\" % (person['name'], person['p_wd'] + person['p_we'] + person['s_wd'] + person['s_we']))"
   ]
  },
  {
   "cell_type": "code",
   "execution_count": null,
   "id": "07566c2a-f4d2-4382-8fed-6584e42f5a4f",
   "metadata": {},
   "outputs": [],
   "source": []
  },
  {
   "cell_type": "code",
   "execution_count": null,
   "id": "9e5af43f-f015-4f02-81c8-1699554b9075",
   "metadata": {},
   "outputs": [],
   "source": []
  }
 ],
 "metadata": {
  "colab": {
   "provenance": []
  },
  "kernelspec": {
   "display_name": "Python 3 (ipykernel)",
   "language": "python",
   "name": "python3"
  },
  "language_info": {
   "codemirror_mode": {
    "name": "ipython",
    "version": 3
   },
   "file_extension": ".py",
   "mimetype": "text/x-python",
   "name": "python",
   "nbconvert_exporter": "python",
   "pygments_lexer": "ipython3",
   "version": "3.11.5"
  }
 },
 "nbformat": 4,
 "nbformat_minor": 5
}
